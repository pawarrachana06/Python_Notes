{
 "cells": [
  {
   "cell_type": "markdown",
   "metadata": {},
   "source": [
    "TEMPERATURE CONVERSION"
   ]
  },
  {
   "cell_type": "code",
   "execution_count": 5,
   "metadata": {},
   "outputs": [],
   "source": [
    "def temerature_convert(temp,unit):\n",
    "    ''' This function converts temperature to celsius and fahrenheit'''\n",
    "    if unit == \"Celsius\":\n",
    "      return f\"{(temp *1.8)+32} F\" \n",
    "    elif unit == \"Fahrenheit\":\n",
    "      return f\"{(temp- 32) /1.8} C\"\n",
    "\n",
    "    else :\n",
    "     return \"Not supported\"  \n"
   ]
  },
  {
   "cell_type": "code",
   "execution_count": 6,
   "metadata": {},
   "outputs": [
    {
     "name": "stdout",
     "output_type": "stream",
     "text": [
      "77.0 F\n",
      "0.0 C\n"
     ]
    }
   ],
   "source": [
    "print(temerature_convert(25,\"Celsius\"))\n",
    "\n",
    "print(temerature_convert(32,\"Fahrenheit\"))"
   ]
  },
  {
   "cell_type": "markdown",
   "metadata": {},
   "source": [
    "PASSWORD STRENGTH CHECKER"
   ]
  },
  {
   "cell_type": "code",
   "execution_count": 14,
   "metadata": {},
   "outputs": [
    {
     "name": "stdout",
     "output_type": "stream",
     "text": [
      " IS PASSWORD STRONG ? False \n",
      " IS PASSWORD STRONG ? True \n"
     ]
    }
   ],
   "source": [
    "def password_checker(password):\n",
    "    if len(password)<8:\n",
    "        return False\n",
    "    elif not any (char.isdigit() for char in password):\n",
    "        return False\n",
    "    elif not any (char.islower() for char in password):\n",
    "        return False\n",
    "    elif not any (char.isupper() for char in password):\n",
    "        return False\n",
    "    elif not any (char in '@#$%^*()+_' for char in password):\n",
    "        return False        \n",
    "    return True  \n",
    "\n",
    "print(f\" IS PASSWORD STRONG ? {password_checker(\"werY6\")} \")    \n",
    "print(f\" IS PASSWORD STRONG ? {password_checker(\"werY6@g7\")} \")              "
   ]
  },
  {
   "cell_type": "markdown",
   "metadata": {},
   "source": [
    "CALCULATE COST OF SHOPPING CART"
   ]
  },
  {
   "cell_type": "code",
   "execution_count": 28,
   "metadata": {},
   "outputs": [
    {
     "name": "stdout",
     "output_type": "stream",
     "text": [
      "90000\n",
      "360000\n",
      "Total cost is 450000\n"
     ]
    }
   ],
   "source": [
    "def calculate_total_cost(cart):\n",
    "    sum=0\n",
    "    for items in cart:\n",
    "        print(f\"{items['quantity']* items['price']}\")\n",
    "        sum=sum+(items['quantity']* items['price'])\n",
    "    return sum    \n",
    "            \n",
    "\n",
    "\n",
    "\n",
    "cart=[\n",
    "    {\n",
    "        \"name\":\"Apple Phone\",\"price\":45000,\"quantity\":2\n",
    "    },\n",
    "    {\n",
    "        \"name\":\"Mac Book\",\"price\":120000,\"quantity\":3\n",
    "    }\n",
    "] \n",
    "\n",
    "\n",
    "print(f\"Total cost is {calculate_total_cost(cart)}\")"
   ]
  },
  {
   "cell_type": "markdown",
   "metadata": {},
   "source": [
    "CHECK IF A STRING IS PALINDROME"
   ]
  },
  {
   "cell_type": "code",
   "execution_count": 42,
   "metadata": {},
   "outputs": [
    {
     "name": "stdout",
     "output_type": "stream",
     "text": [
      "False\n",
      "True\n"
     ]
    }
   ],
   "source": [
    "def is_palindrome(sentense):\n",
    "    word=sentense.lower().replace(\" \",\"\")\n",
    "    reverse_word=word[::-1]\n",
    "    return reverse_word == word\n",
    "\n",
    "print(is_palindrome(\"RACECARR\"))    \n",
    "print(is_palindrome(\"A man a plan a canal panama\"))   "
   ]
  },
  {
   "cell_type": "markdown",
   "metadata": {},
   "source": [
    "FACTORIAL OF A NUMBER"
   ]
  },
  {
   "cell_type": "markdown",
   "metadata": {},
   "source": [
    "FREQUENCY OF WORDS IN A FILE"
   ]
  },
  {
   "cell_type": "markdown",
   "metadata": {},
   "source": [
    "VALIDATE EMAIL ADDRESS"
   ]
  },
  {
   "cell_type": "markdown",
   "metadata": {},
   "source": [
    "LAMBDA FUNCTION"
   ]
  },
  {
   "cell_type": "code",
   "execution_count": 44,
   "metadata": {},
   "outputs": [
    {
     "data": {
      "text/plain": [
       "False"
      ]
     },
     "execution_count": 44,
     "metadata": {},
     "output_type": "execute_result"
    }
   ],
   "source": [
    "even=lambda num: num%2 ==0\n",
    "\n",
    "even(11)"
   ]
  },
  {
   "cell_type": "code",
   "execution_count": 45,
   "metadata": {},
   "outputs": [
    {
     "data": {
      "text/plain": [
       "12"
      ]
     },
     "execution_count": 45,
     "metadata": {},
     "output_type": "execute_result"
    }
   ],
   "source": [
    "addition=lambda x,y,z:x+y+z\n",
    "addition(2,4,6)"
   ]
  },
  {
   "cell_type": "code",
   "execution_count": 49,
   "metadata": {},
   "outputs": [
    {
     "data": {
      "text/plain": [
       "[8, 27, 64]"
      ]
     },
     "execution_count": 49,
     "metadata": {},
     "output_type": "execute_result"
    }
   ],
   "source": [
    "list(map(lambda x:x**3,[2,3,4]))"
   ]
  },
  {
   "cell_type": "code",
   "execution_count": 51,
   "metadata": {},
   "outputs": [
    {
     "data": {
      "text/plain": [
       "[4, 4, 4]"
      ]
     },
     "execution_count": 51,
     "metadata": {},
     "output_type": "execute_result"
    }
   ],
   "source": [
    "list(map(lambda x,y:x+y,[1,2,3],[3,2,1]))"
   ]
  },
  {
   "cell_type": "code",
   "execution_count": 52,
   "metadata": {},
   "outputs": [
    {
     "data": {
      "text/plain": [
       "['Krish', 'Rahul']"
      ]
     },
     "execution_count": 52,
     "metadata": {},
     "output_type": "execute_result"
    }
   ],
   "source": [
    "def get_name(person):\n",
    "    return person['name']\n",
    "\n",
    "\n",
    "\n",
    "persons=[\n",
    "    {\"name\":'Krish',\"age\":30},\n",
    "    {\"name\":\"Rahul\",\"age\":31}\n",
    "]\n",
    "\n",
    "\n",
    "list(map(get_name,persons))"
   ]
  }
 ],
 "metadata": {
  "kernelspec": {
   "display_name": "Python 3",
   "language": "python",
   "name": "python3"
  },
  "language_info": {
   "codemirror_mode": {
    "name": "ipython",
    "version": 3
   },
   "file_extension": ".py",
   "mimetype": "text/x-python",
   "name": "python",
   "nbconvert_exporter": "python",
   "pygments_lexer": "ipython3",
   "version": "3.12.4"
  }
 },
 "nbformat": 4,
 "nbformat_minor": 2
}
